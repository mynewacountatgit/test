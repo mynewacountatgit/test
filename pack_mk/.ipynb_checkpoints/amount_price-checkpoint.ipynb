{
 "cells": [
  {
   "cell_type": "code",
   "execution_count": 1,
   "metadata": {
    "collapsed": true
   },
   "outputs": [],
   "source": [
    "## 导入相关包\n",
    "import pandas\n",
    "import tushare\n",
    "from matplotlib import pyplot as plt\n",
    "import matplotlib\n",
    "matplotlib.style.use(\"ggplot\")\n"
   ]
  },
  {
   "cell_type": "code",
   "execution_count": null,
   "metadata": {
    "collapsed": true
   },
   "outputs": [],
   "source": [
    "## 获得各个股指对应的数据\n",
    "##000001    上证指数\n",
    "## 399004  深证100R\n",
    "##399606    创业板R\n",
    "## 000300   沪深300\n",
    "#  load from local\n",
    "market = pandas.read_csv(u\"C:\\\\Users\\\\fisher\\\\Documents\\\\金融\\\\index_data\\\\shzz_index.csv\",encoding=\"gbk\",index_col=0)\n",
    "market_sz = pandas.read_csv(u\"C:\\\\Users\\\\fisher\\\\Documents\\\\金融\\\\index_data\\\\shenz_index.csv\",encoding=\"gbk\",index_col=0)\n",
    "market_hs= pandas.read_csv(u\"C:\\\\Users\\\\fisher\\\\Documents\\\\金融\\\\index_data\\\\hs_index.csv\",encoding=\"gbk\",index_col=0)\n",
    "market_cy= pandas.read_csv(u\"C:\\\\Users\\\\fisher\\\\Documents\\\\金融\\\\index_data\\\\cy_index.csv\",encoding=\"gbk\",index_col=0)\n",
    "\n"
   ]
  },
  {
   "cell_type": "code",
   "execution_count": null,
   "metadata": {
    "collapsed": true
   },
   "outputs": [],
   "source": [
    "\n",
    "## basic index\n",
    "def short_indices(add_nav, rf):\n",
    "    # delta = pandas.Series(df.index[1:] - df.index[:-1])\n",
    "    # year_count = int(365.0 / delta.value_counts().argmax().days)\n",
    "    add_nav = add_nav.dropna()\n",
    "    annualized_returns = (add_nav.ix[-1] / add_nav.ix[0] )**(365/(add_nav.index[-1]-add_nav.index[0]).days)- 1\n",
    "    rp = annualized_returns\n",
    "    day_return = add_nav.diff() / add_nav.shift() - 1\n",
    "    sharpe_ratio = (rp - rf) / (day_return.std() * math.sqrt(len(add_nav)))\n",
    "    d =add_nav\n",
    "    def withdraw_new(d):\n",
    "        d_ = d.copy()\n",
    "        new_high_v = 0\n",
    "        new_high_record = []\n",
    "        for i in range(len(d_)):\n",
    "            if d_[i] >new_high_v:\n",
    "                new_high_v = d_[i]\n",
    "                new_high_record.append(i)\n",
    "        if len(new_high_record) <= 1:\n",
    "            withdraw_time = len(d_)\n",
    "            if len(new_high_record) == 0:\n",
    "                withdraw_rate = 0.0\n",
    "            else:\n",
    "                withdraw_rate = 1-min(d_)/max(d_)\n",
    "        else:\n",
    "            max_delta = max([ d.index[new_high_record[i+1]] - d.index[new_high_record[i]] for i in range(len(new_high_record)-1)])\n",
    "            withdraw_time =  max(max_delta,d.index[-1]-d.argmax()).days-1\n",
    "            draw_rate = []\n",
    "            for i_gap in range(len(new_high_record)-1):\n",
    "                max_index = new_high_record[i_gap],new_high_record[i_gap+1]\n",
    "                min_v = min(d_[max_index[0]:max_index[1]])\n",
    "                draw_rate.append(1-min_v/d_[max_index[0]])\n",
    "            withdraw_rate = max(draw_rate)\n",
    "        return  withdraw_rate, withdraw_time\n",
    "    withdraw_rate, withdraw_time = withdraw_new(add_nav)\n",
    "    day_of_year = len(add_nav)\n",
    "    index_name = u\"年化收益,夏普比率,最大回撤,最大回撤周期,数据天数\".split(u\",\")\n",
    "    index_value = rp, sharpe_ratio, withdraw_rate, withdraw_time, day_of_year\n",
    "    values = pandas.Series(index_value, index=index_name)\n",
    "    return values\n"
   ]
  },
  {
   "cell_type": "code",
   "execution_count": null,
   "metadata": {
    "collapsed": true
   },
   "outputs": [],
   "source": [
    "## the st object\n",
    "class MarketSt(object):\n",
    "    def __init__(self, market, col1, col2, p, and_or, start_date=None):\n",
    "        market.index = pandas.to_datetime(market.index)\n",
    "        market = market.sort_index()\n",
    "        self.market = market\n",
    "        self.col1 = col1\n",
    "        self.col2 = col2\n",
    "        self.p = p\n",
    "        self.and_or = and_or\n",
    "        self.start_date = start_date\n",
    "        if start_date == None:\n",
    "            self.from_y_market = market\n",
    "        else:\n",
    "            start_date.from_y_market = self.market[start_date:]\n",
    "        self.signal, self.gain = self.run()\n",
    "        self.index = self._index()\n",
    "        self.sg_latest = self.signal[-1]\n",
    "\n",
    "    def run(self):\n",
    "        self.from_y_market = self.from_y_market.sort_index()\n",
    "        ## 周重采样平均，以p为参数，对周频数据滚动平均\n",
    "        base1 = self.from_y_market[self.col1].resample(\"w\").mean().dropna().rolling(self.p).mean()\n",
    "        # base2 = market[col2].resample(\"w\").mean().dropna().rolling(p).mean()\n",
    "        base2 = self.from_y_market[self.col2].rolling(20).mean().resample(\"w\").last()\n",
    "        ##  每周的末的收盘价与每周初的开盘价，算收益率\n",
    "        delta = ((self.from_y_market.close.resample(\"w\").last() - self.from_y_market.open.resample(\n",
    "            \"w\").first()) / self.from_y_market.open.resample(\n",
    "            \"w\").first()).dropna()\n",
    "        ##  策略信号，如果比上周大，就多，基于每周末平仓\n",
    "        signal1 = base1 > base1.shift(1)\n",
    "        sig_df = pandas.concat([self.from_y_market[self.col2].resample(\"w\").last(), base2], axis=1)\n",
    "        sig_df.columns = [\"close\", \"roling_close\"]\n",
    "        signal2 = sig_df.close > sig_df.roling_close\n",
    "        if self.and_or == \"and\":\n",
    "            signal_f = (signal1 & signal2).dropna()\n",
    "        elif self.and_or == \"or\":\n",
    "            signal_f = ((signal1 + signal2) / 2).dropna()\n",
    "        ## 计算累积收益率\n",
    "        gain = (1 + signal_f.shift(1) * delta).dropna().cumprod()\n",
    "        return signal_f, gain\n",
    "\n",
    "    def plot(self, hold=False):\n",
    "        plot, = plt.plot(self.from_y_market.close[0] * self.gain,\n",
    "                         label=\" \".join([self.col1, self.col2, str(self.p), self.and_or]))\n",
    "        if hold:\n",
    "            return plot\n",
    "        else:\n",
    "            plot1, = plt.plot(self.from_y_market.close, label=\"index\")\n",
    "            plt.legend(handles=[plot, plot1])\n",
    "            plt.show()\n",
    "\n",
    "    def reset(self, market, col1, col2, p, and_or, start_date=None):\n",
    "        self.market = market\n",
    "        self.col1 = col1\n",
    "        self.col2 = col2\n",
    "        self.p = p\n",
    "        self.and_or = and_or\n",
    "        self.start_date = start_date\n",
    "        if start_date == None:\n",
    "            self.from_y_market = market\n",
    "        else:\n",
    "            start_date.from_y_market = self.market[start_date:]\n",
    "        self.signal, self.gain = self.run()\n",
    "        self.index = self._index()\n",
    "        self.sg_latest = self.signal[-1]\n",
    "\n",
    "    def _index(self):\n",
    "        import math\n",
    "        return short_indices(self.gain, 0.03)\n",
    "\n"
   ]
  },
  {
   "cell_type": "code",
   "execution_count": null,
   "metadata": {
    "collapsed": true
   },
   "outputs": [],
   "source": [
    "mk = MarketSt(market, \"amount\", \"close\", 4, \"and\")"
   ]
  },
  {
   "cell_type": "code",
   "execution_count": null,
   "metadata": {
    "collapsed": true
   },
   "outputs": [],
   "source": [
    "mk = MarketSt(market, \"amount\", \"close\", 4, \"and\")\n",
    "mk.plot()\n",
    "mk.gain\n",
    "mk.signal"
   ]
  }
 ],
 "metadata": {
  "kernelspec": {
   "display_name": "Python 2",
   "language": "python",
   "name": "python2"
  },
  "language_info": {
   "codemirror_mode": {
    "name": "ipython",
    "version": 2
   },
   "file_extension": ".py",
   "mimetype": "text/x-python",
   "name": "python",
   "nbconvert_exporter": "python",
   "pygments_lexer": "ipython2",
   "version": "2.7.13"
  }
 },
 "nbformat": 4,
 "nbformat_minor": 0
}
