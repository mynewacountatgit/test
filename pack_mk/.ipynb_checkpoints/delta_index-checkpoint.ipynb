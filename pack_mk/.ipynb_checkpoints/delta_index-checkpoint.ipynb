{
 "cells": [
  {
   "cell_type": "code",
   "execution_count": null,
   "metadata": {
    "collapsed": true
   },
   "outputs": [],
   "source": [
    "from matplotlib import pyplot as plt\n",
    "from datetime import  timedelta\n",
    "import pandas"
   ]
  },
  {
   "cell_type": "code",
   "execution_count": null,
   "metadata": {
    "collapsed": true
   },
   "outputs": [],
   "source": [
    "cpi_ppi = pandas.read_csv(\"ppi_cpi.csv\",encoding=\"gbk\",index_col=0)\n",
    "cpi_ppi.index = pandas.to_datetime(cpi_ppi.index)\n",
    "cpi_ppi.columns\n",
    "## delta  是两者之差\n"
   ]
  },
  {
   "cell_type": "code",
   "execution_count": null,
   "metadata": {
    "collapsed": true
   },
   "outputs": [],
   "source": [
    "market = pandas.read_csv(u\"C:\\\\Users\\\\fisher\\\\Documents\\\\金融\\\\index_data\\\\shzz_index.csv\",encoding=\"gbk\",index_col=0)\n",
    "\n",
    "sz =market\n",
    "sz.index = pandas.to_datetime(sz.index)\n",
    "sz = sz.sort_index()"
   ]
  },
  {
   "cell_type": "code",
   "execution_count": null,
   "metadata": {
    "collapsed": true
   },
   "outputs": [],
   "source": [
    "## 调整到月频率的数据\n",
    "delta = (sz.close.resample(\"m\").last() -sz.open.resample(\"m\").first())/sz.open.resample(\"m\").first()\n",
    "delta.index = delta.index+timedelta(1)## 数据对齐"
   ]
  },
  {
   "cell_type": "code",
   "execution_count": null,
   "metadata": {
    "collapsed": true
   },
   "outputs": [],
   "source": [
    "## 合在一起\n",
    "df = pandas.concat([delta,cpi_ppi.delta],axis=1)\n"
   ]
  },
  {
   "cell_type": "code",
   "execution_count": null,
   "metadata": {
    "collapsed": true
   },
   "outputs": [],
   "source": [
    "## 查看相关性  经测试，长短期都是负相关\n",
    "plt.plot(df[0] ,df[\"delta\"],\"ro\")\n",
    "plt.show()\n",
    "df.corr()"
   ]
  },
  {
   "cell_type": "code",
   "execution_count": null,
   "metadata": {
    "collapsed": true
   },
   "outputs": [],
   "source": [
    "## 确定信号\n",
    "df[\"signal\"] = df.delta < df.delta.shift(1)"
   ]
  },
  {
   "cell_type": "code",
   "execution_count": null,
   "metadata": {
    "collapsed": true
   },
   "outputs": [],
   "source": [
    "## 计算收益\n",
    "gain = 1+df[\"signal\"].shift(1)*df[0]\n",
    "gain.cumprod().plot()\n",
    "plt.show()\n",
    "\n"
   ]
  },
  {
   "cell_type": "code",
   "execution_count": null,
   "metadata": {
    "collapsed": true
   },
   "outputs": [],
   "source": []
  }
 ],
 "metadata": {
  "kernelspec": {
   "display_name": "Python 2",
   "language": "python",
   "name": "python2"
  },
  "language_info": {
   "codemirror_mode": {
    "name": "ipython",
    "version": 2
   },
   "file_extension": ".py",
   "mimetype": "text/x-python",
   "name": "python",
   "nbconvert_exporter": "python",
   "pygments_lexer": "ipython2",
   "version": "2.7.13"
  }
 },
 "nbformat": 4,
 "nbformat_minor": 0
}
